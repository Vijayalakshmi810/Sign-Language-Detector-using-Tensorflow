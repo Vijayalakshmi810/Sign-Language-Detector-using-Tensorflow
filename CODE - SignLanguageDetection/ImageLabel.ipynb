{
 "cells": [
  {
   "cell_type": "markdown",
   "id": "06ca5d93",
   "metadata": {},
   "source": [
    "# Image Labelling"
   ]
  },
  {
   "cell_type": "code",
   "execution_count": 1,
   "id": "041e0398",
   "metadata": {},
   "outputs": [],
   "source": [
    "import os"
   ]
  },
  {
   "cell_type": "code",
   "execution_count": 2,
   "id": "f9da3257",
   "metadata": {},
   "outputs": [
    {
     "name": "stdout",
     "output_type": "stream",
     "text": [
      "Image:C:\\SignLanguageDetection\\Tensorflow\\workspace\\images\\allimages\\hello.7bdb855a-8f27-11ec-8572-0c5415d0f1a5.jpg -> Annotation:C:/SignLanguageDetection/Tensorflow/workspace/images/allimages/hello.7bdb855a-8f27-11ec-8572-0c5415d0f1a5.xml\n",
      "Image:C:\\SignLanguageDetection\\Tensorflow\\workspace\\images\\allimages\\hello.7d101574-8f27-11ec-8337-0c5415d0f1a5.jpg -> Annotation:C:/SignLanguageDetection/Tensorflow/workspace/images/allimages\\hello.7d101574-8f27-11ec-8337-0c5415d0f1a5.xml\n",
      "Image:C:\\SignLanguageDetection\\Tensorflow\\workspace\\images\\allimages\\hello.7e43847e-8f27-11ec-919e-0c5415d0f1a5.jpg -> Annotation:C:/SignLanguageDetection/Tensorflow/workspace/images/allimages\\hello.7e43847e-8f27-11ec-919e-0c5415d0f1a5.xml\n",
      "Image:C:\\SignLanguageDetection\\Tensorflow\\workspace\\images\\allimages\\hello.7f7868cc-8f27-11ec-8fd8-0c5415d0f1a5.jpg -> Annotation:C:/SignLanguageDetection/Tensorflow/workspace/images/allimages\\hello.7f7868cc-8f27-11ec-8fd8-0c5415d0f1a5.xml\n",
      "Image:C:\\SignLanguageDetection\\Tensorflow\\workspace\\images\\allimages\\hello.8a582bc6-8f27-11ec-b94a-0c5415d0f1a5.jpg -> Annotation:C:/SignLanguageDetection/Tensorflow/workspace/images/allimages\\hello.8a582bc6-8f27-11ec-b94a-0c5415d0f1a5.xml\n",
      "Image:C:\\SignLanguageDetection\\Tensorflow\\workspace\\images\\allimages\\hello.80ac6c46-8f27-11ec-99d9-0c5415d0f1a5.jpg -> Annotation:C:/SignLanguageDetection/Tensorflow/workspace/images/allimages\\hello.80ac6c46-8f27-11ec-99d9-0c5415d0f1a5.xml\n",
      "Image:C:\\SignLanguageDetection\\Tensorflow\\workspace\\images\\allimages\\hello.81e087ec-8f27-11ec-a998-0c5415d0f1a5.jpg -> Annotation:C:/SignLanguageDetection/Tensorflow/workspace/images/allimages\\hello.81e087ec-8f27-11ec-a998-0c5415d0f1a5.xml\n",
      "Image:C:\\SignLanguageDetection\\Tensorflow\\workspace\\images\\allimages\\hello.86baedfe-8f27-11ec-a784-0c5415d0f1a5.jpg -> Annotation:C:/SignLanguageDetection/Tensorflow/workspace/images/allimages\\hello.86baedfe-8f27-11ec-a784-0c5415d0f1a5.xml\n",
      "Image:C:\\SignLanguageDetection\\Tensorflow\\workspace\\images\\allimages\\hello.87f27b76-8f27-11ec-b9a9-0c5415d0f1a5.jpg -> Annotation:C:/SignLanguageDetection/Tensorflow/workspace/images/allimages\\hello.87f27b76-8f27-11ec-b9a9-0c5415d0f1a5.xml\n",
      "Image:C:\\SignLanguageDetection\\Tensorflow\\workspace\\images\\allimages\\hello.844e3302-8f27-11ec-a67f-0c5415d0f1a5.jpg -> Annotation:C:/SignLanguageDetection/Tensorflow/workspace/images/allimages\\hello.844e3302-8f27-11ec-a67f-0c5415d0f1a5.xml\n",
      "Image:C:\\SignLanguageDetection\\Tensorflow\\workspace\\images\\allimages\\hello.8584a048-8f27-11ec-9d41-0c5415d0f1a5.jpg -> Annotation:C:/SignLanguageDetection/Tensorflow/workspace/images/allimages\\hello.8584a048-8f27-11ec-9d41-0c5415d0f1a5.xml\n",
      "Image:C:\\SignLanguageDetection\\Tensorflow\\workspace\\images\\allimages\\hello.89245d34-8f27-11ec-820d-0c5415d0f1a5.jpg -> Annotation:C:/SignLanguageDetection/Tensorflow/workspace/images/allimages\\hello.89245d34-8f27-11ec-820d-0c5415d0f1a5.xml\n",
      "Image:C:\\SignLanguageDetection\\Tensorflow\\workspace\\images\\allimages\\hello.f3bd0eb8-5975-11ec-8b03-b674f6c40a0d.jpg -> Annotation:C:/SignLanguageDetection/Tensorflow/workspace/images/allimages\\hello.f3bd0eb8-5975-11ec-8b03-b674f6c40a0d.xml\n",
      "Image:C:\\SignLanguageDetection\\Tensorflow\\workspace\\images\\allimages\\hello.f4f1093a-5975-11ec-81c1-b674f6c40a0d.jpg -> Annotation:C:/SignLanguageDetection/Tensorflow/workspace/images/allimages\\hello.f4f1093a-5975-11ec-81c1-b674f6c40a0d.xml\n",
      "Image:C:\\SignLanguageDetection\\Tensorflow\\workspace\\images\\allimages\\hello.f9cbb662-5975-11ec-8638-b674f6c40a0d.jpg -> Annotation:C:/SignLanguageDetection/Tensorflow/workspace/images/allimages\\hello.f9cbb662-5975-11ec-8638-b674f6c40a0d.xml\n",
      "Image:C:\\SignLanguageDetection\\Tensorflow\\workspace\\images\\allimages\\hello.f893e386-5975-11ec-84ff-b674f6c40a0d.jpg -> Annotation:C:/SignLanguageDetection/Tensorflow/workspace/images/allimages\\hello.f893e386-5975-11ec-84ff-b674f6c40a0d.xml\n",
      "Image:C:\\SignLanguageDetection\\Tensorflow\\workspace\\images\\allimages\\hello.fc3a13c0-5975-11ec-aa60-b674f6c40a0d.jpg -> Annotation:C:/SignLanguageDetection/Tensorflow/workspace/images/allimages\\hello.fc3a13c0-5975-11ec-aa60-b674f6c40a0d.xml\n",
      "Image:C:\\SignLanguageDetection\\Tensorflow\\workspace\\images\\allimages\\iloveyou.4aeb8b18-5976-11ec-a77d-b674f6c40a0d.jpg -> Annotation:C:/SignLanguageDetection/Tensorflow/workspace/images/allimages\\iloveyou.4aeb8b18-5976-11ec-a77d-b674f6c40a0d.xml\n",
      "Image:C:\\SignLanguageDetection\\Tensorflow\\workspace\\images\\allimages\\iloveyou.4c23dbac-5976-11ec-8098-b674f6c40a0d.jpg -> Annotation:C:/SignLanguageDetection/Tensorflow/workspace/images/allimages\\iloveyou.4c23dbac-5976-11ec-8098-b674f6c40a0d.xml\n",
      "Image:C:\\SignLanguageDetection\\Tensorflow\\workspace\\images\\allimages\\iloveyou.4d5ded00-5976-11ec-923f-b674f6c40a0d.jpg -> Annotation:C:/SignLanguageDetection/Tensorflow/workspace/images/allimages\\iloveyou.4d5ded00-5976-11ec-923f-b674f6c40a0d.xml\n",
      "Image:C:\\SignLanguageDetection\\Tensorflow\\workspace\\images\\allimages\\iloveyou.4e9740a6-5976-11ec-a211-b674f6c40a0d.jpg -> Annotation:C:/SignLanguageDetection/Tensorflow/workspace/images/allimages\\iloveyou.4e9740a6-5976-11ec-a211-b674f6c40a0d.xml\n",
      "Image:C:\\SignLanguageDetection\\Tensorflow\\workspace\\images\\allimages\\iloveyou.4fcd8824-5976-11ec-95de-b674f6c40a0d.jpg -> Annotation:C:/SignLanguageDetection/Tensorflow/workspace/images/allimages\\iloveyou.4fcd8824-5976-11ec-95de-b674f6c40a0d.xml\n",
      "Image:C:\\SignLanguageDetection\\Tensorflow\\workspace\\images\\allimages\\iloveyou.571e406c-5976-11ec-806e-b674f6c40a0d.jpg -> Annotation:C:/SignLanguageDetection/Tensorflow/workspace/images/allimages\\iloveyou.571e406c-5976-11ec-806e-b674f6c40a0d.xml\n",
      "Image:C:\\SignLanguageDetection\\Tensorflow\\workspace\\images\\allimages\\iloveyou.5103ac8a-5976-11ec-9589-b674f6c40a0d.jpg -> Annotation:C:/SignLanguageDetection/Tensorflow/workspace/images/allimages\\iloveyou.5103ac8a-5976-11ec-9589-b674f6c40a0d.xml\n",
      "Image:C:\\SignLanguageDetection\\Tensorflow\\workspace\\images\\allimages\\iloveyou.5374a81a-5976-11ec-ac52-b674f6c40a0d.jpg -> Annotation:C:/SignLanguageDetection/Tensorflow/workspace/images/allimages\\iloveyou.5374a81a-5976-11ec-ac52-b674f6c40a0d.xml\n",
      "Image:C:\\SignLanguageDetection\\Tensorflow\\workspace\\images\\allimages\\iloveyou.585755a6-5976-11ec-93df-b674f6c40a0d.jpg -> Annotation:C:/SignLanguageDetection/Tensorflow/workspace/images/allimages\\iloveyou.585755a6-5976-11ec-93df-b674f6c40a0d.xml\n",
      "Image:C:\\SignLanguageDetection\\Tensorflow\\workspace\\images\\allimages\\iloveyou.d5a343ae-8f27-11ec-a9c1-0c5415d0f1a5.jpg -> Annotation:C:/SignLanguageDetection/Tensorflow/workspace/images/allimages\\iloveyou.d5a343ae-8f27-11ec-a9c1-0c5415d0f1a5.xml\n",
      "Image:C:\\SignLanguageDetection\\Tensorflow\\workspace\\images\\allimages\\iloveyou.d6dafae8-8f27-11ec-8e84-0c5415d0f1a5.jpg -> Annotation:C:/SignLanguageDetection/Tensorflow/workspace/images/allimages\\iloveyou.d6dafae8-8f27-11ec-8e84-0c5415d0f1a5.xml\n",
      "Image:C:\\SignLanguageDetection\\Tensorflow\\workspace\\images\\allimages\\iloveyou.d46f4d74-8f27-11ec-8896-0c5415d0f1a5.jpg -> Annotation:C:/SignLanguageDetection/Tensorflow/workspace/images/allimages\\iloveyou.d46f4d74-8f27-11ec-8896-0c5415d0f1a5.xml\n",
      "Image:C:\\SignLanguageDetection\\Tensorflow\\workspace\\images\\allimages\\iloveyou.d80ec582-8f27-11ec-9fa1-0c5415d0f1a5.jpg -> Annotation:C:/SignLanguageDetection/Tensorflow/workspace/images/allimages\\iloveyou.d80ec582-8f27-11ec-9fa1-0c5415d0f1a5.xml\n",
      "Image:C:\\SignLanguageDetection\\Tensorflow\\workspace\\images\\allimages\\iloveyou.de0bc81c-8f27-11ec-8d2a-0c5415d0f1a5.jpg -> Annotation:C:/SignLanguageDetection/Tensorflow/workspace/images/allimages\\iloveyou.de0bc81c-8f27-11ec-8d2a-0c5415d0f1a5.xml\n",
      "Image:C:\\SignLanguageDetection\\Tensorflow\\workspace\\images\\allimages\\iloveyou.df3d9f1c-8f27-11ec-9493-0c5415d0f1a5.jpg -> Annotation:C:/SignLanguageDetection/Tensorflow/workspace/images/allimages\\iloveyou.df3d9f1c-8f27-11ec-9493-0c5415d0f1a5.xml\n",
      "Image:C:\\SignLanguageDetection\\Tensorflow\\workspace\\images\\allimages\\iloveyou.e1a90db4-8f27-11ec-ac6e-0c5415d0f1a5.jpg -> Annotation:C:/SignLanguageDetection/Tensorflow/workspace/images/allimages\\iloveyou.e1a90db4-8f27-11ec-ac6e-0c5415d0f1a5.xml\n",
      "Image:C:\\SignLanguageDetection\\Tensorflow\\workspace\\images\\allimages\\iloveyou.e073ef92-8f27-11ec-b8c7-0c5415d0f1a5.jpg -> Annotation:C:/SignLanguageDetection/Tensorflow/workspace/images/allimages\\iloveyou.e073ef92-8f27-11ec-b8c7-0c5415d0f1a5.xml\n"
     ]
    },
    {
     "name": "stdout",
     "output_type": "stream",
     "text": [
      "Image:C:\\SignLanguageDetection\\Tensorflow\\workspace\\images\\allimages\\iloveyou.e42037b0-8f27-11ec-baf7-0c5415d0f1a5.jpg -> Annotation:C:/SignLanguageDetection/Tensorflow/workspace/images/allimages\\iloveyou.e42037b0-8f27-11ec-baf7-0c5415d0f1a5.xml\n",
      "Image:C:\\SignLanguageDetection\\Tensorflow\\workspace\\images\\allimages\\no.3b3a41c6-5976-11ec-a75e-b674f6c40a0d.jpg -> Annotation:C:/SignLanguageDetection/Tensorflow/workspace/images/allimages\\no.3b3a41c6-5976-11ec-a75e-b674f6c40a0d.xml\n",
      "Image:C:\\SignLanguageDetection\\Tensorflow\\workspace\\images\\allimages\\no.3c7397c8-5976-11ec-a477-b674f6c40a0d.jpg -> Annotation:C:/SignLanguageDetection/Tensorflow/workspace/images/allimages\\no.3c7397c8-5976-11ec-a477-b674f6c40a0d.xml\n",
      "Image:C:\\SignLanguageDetection\\Tensorflow\\workspace\\images\\allimages\\no.3dabfbf4-5976-11ec-b197-b674f6c40a0d.jpg -> Annotation:C:/SignLanguageDetection/Tensorflow/workspace/images/allimages\\no.3dabfbf4-5976-11ec-b197-b674f6c40a0d.xml\n",
      "Image:C:\\SignLanguageDetection\\Tensorflow\\workspace\\images\\allimages\\no.3ee376e2-5976-11ec-a971-b674f6c40a0d.jpg -> Annotation:C:/SignLanguageDetection/Tensorflow/workspace/images/allimages\\no.3ee376e2-5976-11ec-a971-b674f6c40a0d.xml\n",
      "Image:C:\\SignLanguageDetection\\Tensorflow\\workspace\\images\\allimages\\no.32a6fb4a-5976-11ec-951f-b674f6c40a0d.jpg -> Annotation:C:/SignLanguageDetection/Tensorflow/workspace/images/allimages\\no.32a6fb4a-5976-11ec-951f-b674f6c40a0d.xml\n",
      "Image:C:\\SignLanguageDetection\\Tensorflow\\workspace\\images\\allimages\\no.33dfcc48-5976-11ec-9c22-b674f6c40a0d.jpg -> Annotation:C:/SignLanguageDetection/Tensorflow/workspace/images/allimages\\no.33dfcc48-5976-11ec-9c22-b674f6c40a0d.xml\n",
      "Image:C:\\SignLanguageDetection\\Tensorflow\\workspace\\images\\allimages\\no.38c7be4a-5976-11ec-be7f-b674f6c40a0d.jpg -> Annotation:C:/SignLanguageDetection/Tensorflow/workspace/images/allimages\\no.38c7be4a-5976-11ec-be7f-b674f6c40a0d.xml\n",
      "Image:C:\\SignLanguageDetection\\Tensorflow\\workspace\\images\\allimages\\no.316ee940-5976-11ec-be1a-b674f6c40a0d.jpg -> Annotation:C:/SignLanguageDetection/Tensorflow/workspace/images/allimages\\no.316ee940-5976-11ec-be1a-b674f6c40a0d.xml\n",
      "Image:C:\\SignLanguageDetection\\Tensorflow\\workspace\\images\\allimages\\no.35224ae2-5976-11ec-87f5-b674f6c40a0d.jpg -> Annotation:C:/SignLanguageDetection/Tensorflow/workspace/images/allimages\\no.35224ae2-5976-11ec-87f5-b674f6c40a0d.xml\n",
      "Image:C:\\SignLanguageDetection\\Tensorflow\\workspace\\images\\allimages\\no.379071c8-5976-11ec-bce6-b674f6c40a0d.jpg -> Annotation:C:/SignLanguageDetection/Tensorflow/workspace/images/allimages\\no.379071c8-5976-11ec-bce6-b674f6c40a0d.xml\n",
      "Image:C:\\SignLanguageDetection\\Tensorflow\\workspace\\images\\allimages\\no.3659221c-5976-11ec-b5fd-b674f6c40a0d.jpg -> Annotation:C:/SignLanguageDetection/Tensorflow/workspace/images/allimages\\no.3659221c-5976-11ec-b5fd-b674f6c40a0d.xml\n",
      "Image:C:\\SignLanguageDetection\\Tensorflow\\workspace\\images\\allimages\\no.bcfedde2-8f27-11ec-8189-0c5415d0f1a5.jpg -> Annotation:C:/SignLanguageDetection/Tensorflow/workspace/images/allimages\\no.bcfedde2-8f27-11ec-8189-0c5415d0f1a5.xml\n",
      "Image:C:\\SignLanguageDetection\\Tensorflow\\workspace\\images\\allimages\\no.be31976c-8f27-11ec-b5f5-0c5415d0f1a5.jpg -> Annotation:C:/SignLanguageDetection/Tensorflow/workspace/images/allimages\\no.be31976c-8f27-11ec-b5f5-0c5415d0f1a5.xml\n",
      "Image:C:\\SignLanguageDetection\\Tensorflow\\workspace\\images\\allimages\\no.bf6592d4-8f27-11ec-83d3-0c5415d0f1a5.jpg -> Annotation:C:/SignLanguageDetection/Tensorflow/workspace/images/allimages\\no.bf6592d4-8f27-11ec-83d3-0c5415d0f1a5.xml\n",
      "Image:C:\\SignLanguageDetection\\Tensorflow\\workspace\\images\\allimages\\no.c1cfbf80-8f27-11ec-a3a4-0c5415d0f1a5.jpg -> Annotation:C:/SignLanguageDetection/Tensorflow/workspace/images/allimages\\no.c1cfbf80-8f27-11ec-a3a4-0c5415d0f1a5.xml\n",
      "Image:C:\\SignLanguageDetection\\Tensorflow\\workspace\\images\\allimages\\no.c6a0ff70-8f27-11ec-83ff-0c5415d0f1a5.jpg -> Annotation:C:/SignLanguageDetection/Tensorflow/workspace/images/allimages\\no.c6a0ff70-8f27-11ec-83ff-0c5415d0f1a5.xml\n",
      "Image:C:\\SignLanguageDetection\\Tensorflow\\workspace\\images\\allimages\\no.c7d4d768-8f27-11ec-8c19-0c5415d0f1a5.jpg -> Annotation:C:/SignLanguageDetection/Tensorflow/workspace/images/allimages\\no.c7d4d768-8f27-11ec-8c19-0c5415d0f1a5.xml\n",
      "Image:C:\\SignLanguageDetection\\Tensorflow\\workspace\\images\\allimages\\no.c09a1be8-8f27-11ec-a4f9-0c5415d0f1a5.jpg -> Annotation:C:/SignLanguageDetection/Tensorflow/workspace/images/allimages\\no.c09a1be8-8f27-11ec-a4f9-0c5415d0f1a5.xml\n",
      "Image:C:\\SignLanguageDetection\\Tensorflow\\workspace\\images\\allimages\\no.c56cc334-8f27-11ec-ae11-0c5415d0f1a5.jpg -> Annotation:C:/SignLanguageDetection/Tensorflow/workspace/images/allimages\\no.c56cc334-8f27-11ec-ae11-0c5415d0f1a5.xml\n",
      "Image:C:\\SignLanguageDetection\\Tensorflow\\workspace\\images\\allimages\\no.c90c10d4-8f27-11ec-ade8-0c5415d0f1a5.jpg -> Annotation:C:/SignLanguageDetection/Tensorflow/workspace/images/allimages\\no.c90c10d4-8f27-11ec-ade8-0c5415d0f1a5.xml\n",
      "Image:C:\\SignLanguageDetection\\Tensorflow\\workspace\\images\\allimages\\no.c438909a-8f27-11ec-b68c-0c5415d0f1a5.jpg -> Annotation:C:/SignLanguageDetection/Tensorflow/workspace/images/allimages\\no.c438909a-8f27-11ec-b68c-0c5415d0f1a5.xml\n",
      "Image:C:\\SignLanguageDetection\\Tensorflow\\workspace\\images\\allimages\\no.ccaa48b0-8f27-11ec-96ae-0c5415d0f1a5.jpg -> Annotation:C:/SignLanguageDetection/Tensorflow/workspace/images/allimages\\no.ccaa48b0-8f27-11ec-96ae-0c5415d0f1a5.xml\n",
      "Image:C:\\SignLanguageDetection\\Tensorflow\\workspace\\images\\allimages\\no.cdde5c6e-8f27-11ec-a32e-0c5415d0f1a5.jpg -> Annotation:C:/SignLanguageDetection/Tensorflow/workspace/images/allimages\\no.cdde5c6e-8f27-11ec-a32e-0c5415d0f1a5.xml\n",
      "Image:C:\\SignLanguageDetection\\Tensorflow\\workspace\\images\\allimages\\thanks.0aa41786-5976-11ec-bf25-b674f6c40a0d.jpg -> Annotation:C:/SignLanguageDetection/Tensorflow/workspace/images/allimages\\thanks.0aa41786-5976-11ec-bf25-b674f6c40a0d.xml\n",
      "Image:C:\\SignLanguageDetection\\Tensorflow\\workspace\\images\\allimages\\thanks.0bdb9386-5976-11ec-9aa8-b674f6c40a0d.jpg -> Annotation:C:/SignLanguageDetection/Tensorflow/workspace/images/allimages\\thanks.0bdb9386-5976-11ec-9aa8-b674f6c40a0d.xml\n",
      "Image:C:\\SignLanguageDetection\\Tensorflow\\workspace\\images\\allimages\\thanks.0d115ff8-5976-11ec-8369-b674f6c40a0d.jpg -> Annotation:C:/SignLanguageDetection/Tensorflow/workspace/images/allimages\\thanks.0d115ff8-5976-11ec-8369-b674f6c40a0d.xml\n",
      "Image:C:\\SignLanguageDetection\\Tensorflow\\workspace\\images\\allimages\\thanks.0e49f536-5976-11ec-8a66-b674f6c40a0d.jpg -> Annotation:C:/SignLanguageDetection/Tensorflow/workspace/images/allimages\\thanks.0e49f536-5976-11ec-8a66-b674f6c40a0d.xml\n",
      "Image:C:\\SignLanguageDetection\\Tensorflow\\workspace\\images\\allimages\\thanks.0f85139c-5976-11ec-b866-b674f6c40a0d.jpg -> Annotation:C:/SignLanguageDetection/Tensorflow/workspace/images/allimages\\thanks.0f85139c-5976-11ec-b866-b674f6c40a0d.xml\n",
      "Image:C:\\SignLanguageDetection\\Tensorflow\\workspace\\images\\allimages\\thanks.05c1c136-5976-11ec-8cad-b674f6c40a0d.jpg -> Annotation:C:/SignLanguageDetection/Tensorflow/workspace/images/allimages\\thanks.05c1c136-5976-11ec-8cad-b674f6c40a0d.xml\n",
      "Image:C:\\SignLanguageDetection\\Tensorflow\\workspace\\images\\allimages\\thanks.06fa2124-5976-11ec-8bc5-b674f6c40a0d.jpg -> Annotation:C:/SignLanguageDetection/Tensorflow/workspace/images/allimages\\thanks.06fa2124-5976-11ec-8bc5-b674f6c40a0d.xml\n",
      "Image:C:\\SignLanguageDetection\\Tensorflow\\workspace\\images\\allimages\\thanks.9ae3801e-8f27-11ec-8646-0c5415d0f1a5.jpg -> Annotation:C:/SignLanguageDetection/Tensorflow/workspace/images/allimages\\thanks.9ae3801e-8f27-11ec-8646-0c5415d0f1a5.xml\n",
      "Image:C:\\SignLanguageDetection\\Tensorflow\\workspace\\images\\allimages\\thanks.9c188210-8f27-11ec-bb18-0c5415d0f1a5.jpg -> Annotation:C:/SignLanguageDetection/Tensorflow/workspace/images/allimages\\thanks.9c188210-8f27-11ec-bb18-0c5415d0f1a5.xml\n",
      "Image:C:\\SignLanguageDetection\\Tensorflow\\workspace\\images\\allimages\\thanks.9d595450-8f27-11ec-ba78-0c5415d0f1a5.jpg -> Annotation:C:/SignLanguageDetection/Tensorflow/workspace/images/allimages\\thanks.9d595450-8f27-11ec-ba78-0c5415d0f1a5.xml\n",
      "Image:C:\\SignLanguageDetection\\Tensorflow\\workspace\\images\\allimages\\thanks.9e8ad15c-8f27-11ec-871b-0c5415d0f1a5.jpg -> Annotation:C:/SignLanguageDetection/Tensorflow/workspace/images/allimages\\thanks.9e8ad15c-8f27-11ec-871b-0c5415d0f1a5.xml\n"
     ]
    },
    {
     "name": "stdout",
     "output_type": "stream",
     "text": [
      "Image:C:\\SignLanguageDetection\\Tensorflow\\workspace\\images\\allimages\\thanks.9fbefde6-8f27-11ec-ad3d-0c5415d0f1a5.jpg -> Annotation:C:/SignLanguageDetection/Tensorflow/workspace/images/allimages\\thanks.9fbefde6-8f27-11ec-ad3d-0c5415d0f1a5.xml\n",
      "Image:C:\\SignLanguageDetection\\Tensorflow\\workspace\\images\\allimages\\thanks.10bbeb76-5976-11ec-8a84-b674f6c40a0d.jpg -> Annotation:C:/SignLanguageDetection/Tensorflow/workspace/images/allimages\\thanks.10bbeb76-5976-11ec-8a84-b674f6c40a0d.xml\n",
      "Image:C:\\SignLanguageDetection\\Tensorflow\\workspace\\images\\allimages\\thanks.11f38b52-5976-11ec-8bab-b674f6c40a0d.jpg -> Annotation:C:/SignLanguageDetection/Tensorflow/workspace/images/allimages\\thanks.11f38b52-5976-11ec-8bab-b674f6c40a0d.xml\n",
      "Image:C:\\SignLanguageDetection\\Tensorflow\\workspace\\images\\allimages\\thanks.93a832b4-8f27-11ec-8602-0c5415d0f1a5.jpg -> Annotation:C:/SignLanguageDetection/Tensorflow/workspace/images/allimages\\thanks.93a832b4-8f27-11ec-8602-0c5415d0f1a5.xml\n",
      "Image:C:\\SignLanguageDetection\\Tensorflow\\workspace\\images\\allimages\\thanks.94dc3de2-8f27-11ec-ac68-0c5415d0f1a5.jpg -> Annotation:C:/SignLanguageDetection/Tensorflow/workspace/images/allimages\\thanks.94dc3de2-8f27-11ec-ac68-0c5415d0f1a5.xml\n",
      "Image:C:\\SignLanguageDetection\\Tensorflow\\workspace\\images\\allimages\\thanks.096c6f6e-5976-11ec-a1ea-b674f6c40a0d.jpg -> Annotation:C:/SignLanguageDetection/Tensorflow/workspace/images/allimages\\thanks.096c6f6e-5976-11ec-a1ea-b674f6c40a0d.xml\n",
      "Image:C:\\SignLanguageDetection\\Tensorflow\\workspace\\images\\allimages\\thanks.900cbf62-8f27-11ec-8b13-0c5415d0f1a5.jpg -> Annotation:C:/SignLanguageDetection/Tensorflow/workspace/images/allimages\\thanks.900cbf62-8f27-11ec-8b13-0c5415d0f1a5.xml\n",
      "Image:C:\\SignLanguageDetection\\Tensorflow\\workspace\\images\\allimages\\thanks.1329b37e-5976-11ec-9eae-b674f6c40a0d.jpg -> Annotation:C:/SignLanguageDetection/Tensorflow/workspace/images/allimages\\thanks.1329b37e-5976-11ec-9eae-b674f6c40a0d.xml\n",
      "Image:C:\\SignLanguageDetection\\Tensorflow\\workspace\\images\\allimages\\thanks.083142b4-5976-11ec-b5ca-b674f6c40a0d.jpg -> Annotation:C:/SignLanguageDetection/Tensorflow/workspace/images/allimages\\thanks.083142b4-5976-11ec-b5ca-b674f6c40a0d.xml\n",
      "Image:C:\\SignLanguageDetection\\Tensorflow\\workspace\\images\\allimages\\thanks.92765e8a-8f27-11ec-9f63-0c5415d0f1a5.jpg -> Annotation:C:/SignLanguageDetection/Tensorflow/workspace/images/allimages\\thanks.92765e8a-8f27-11ec-9f63-0c5415d0f1a5.xml\n",
      "Image:C:\\SignLanguageDetection\\Tensorflow\\workspace\\images\\allimages\\thanks.9140041c-8f27-11ec-8a26-0c5415d0f1a5.jpg -> Annotation:C:/SignLanguageDetection/Tensorflow/workspace/images/allimages\\thanks.9140041c-8f27-11ec-8a26-0c5415d0f1a5.xml\n",
      "Image:C:\\SignLanguageDetection\\Tensorflow\\workspace\\images\\allimages\\thanks.96112470-8f27-11ec-a7a6-0c5415d0f1a5.jpg -> Annotation:C:/SignLanguageDetection/Tensorflow/workspace/images/allimages\\thanks.96112470-8f27-11ec-a7a6-0c5415d0f1a5.xml\n",
      "Image:C:\\SignLanguageDetection\\Tensorflow\\workspace\\images\\allimages\\yes.27c9b828-5976-11ec-b7ca-b674f6c40a0d.jpg -> Annotation:C:/SignLanguageDetection/Tensorflow/workspace/images/allimages\\yes.27c9b828-5976-11ec-b7ca-b674f6c40a0d.xml\n",
      "Image:C:\\SignLanguageDetection\\Tensorflow\\workspace\\images\\allimages\\yes.268e75a2-5976-11ec-8bfd-b674f6c40a0d.jpg -> Annotation:C:/SignLanguageDetection/Tensorflow/workspace/images/allimages\\yes.268e75a2-5976-11ec-8bfd-b674f6c40a0d.xml\n",
      "Image:C:\\SignLanguageDetection\\Tensorflow\\workspace\\images\\allimages\\yes.2557d62e-5976-11ec-8686-b674f6c40a0d.jpg -> Annotation:C:/SignLanguageDetection/Tensorflow/workspace/images/allimages\\yes.2557d62e-5976-11ec-8686-b674f6c40a0d.xml\n",
      "Image:C:\\SignLanguageDetection\\Tensorflow\\workspace\\images\\allimages\\yes.29019170-5976-11ec-ad71-b674f6c40a0d.jpg -> Annotation:C:/SignLanguageDetection/Tensorflow/workspace/images/allimages\\yes.29019170-5976-11ec-ad71-b674f6c40a0d.xml\n",
      "Image:C:\\SignLanguageDetection\\Tensorflow\\workspace\\images\\allimages\\yes.a8be5510-8f27-11ec-a64a-0c5415d0f1a5.jpg -> Annotation:C:/SignLanguageDetection/Tensorflow/workspace/images/allimages\\yes.a8be5510-8f27-11ec-a64a-0c5415d0f1a5.xml\n",
      "Image:C:\\SignLanguageDetection\\Tensorflow\\workspace\\images\\allimages\\yes.a9f24a64-8f27-11ec-9fac-0c5415d0f1a5.jpg -> Annotation:C:/SignLanguageDetection/Tensorflow/workspace/images/allimages\\yes.a9f24a64-8f27-11ec-9fac-0c5415d0f1a5.xml\n",
      "Image:C:\\SignLanguageDetection\\Tensorflow\\workspace\\images\\allimages\\yes.a78a5f6c-8f27-11ec-9a2d-0c5415d0f1a5.jpg -> Annotation:C:/SignLanguageDetection/Tensorflow/workspace/images/allimages\\yes.a78a5f6c-8f27-11ec-9a2d-0c5415d0f1a5.xml\n",
      "Image:C:\\SignLanguageDetection\\Tensorflow\\workspace\\images\\allimages\\yes.a6574530-8f27-11ec-be87-0c5415d0f1a5.jpg -> Annotation:C:/SignLanguageDetection/Tensorflow/workspace/images/allimages\\yes.a6574530-8f27-11ec-be87-0c5415d0f1a5.xml\n",
      "Image:C:\\SignLanguageDetection\\Tensorflow\\workspace\\images\\allimages\\yes.ab94945c-8f27-11ec-95cf-0c5415d0f1a5.jpg -> Annotation:C:/SignLanguageDetection/Tensorflow/workspace/images/allimages\\yes.ab94945c-8f27-11ec-95cf-0c5415d0f1a5.xml\n",
      "Image:C:\\SignLanguageDetection\\Tensorflow\\workspace\\images\\allimages\\yes.accada18-8f27-11ec-88e2-0c5415d0f1a5.jpg -> Annotation:C:/SignLanguageDetection/Tensorflow/workspace/images/allimages\\yes.accada18-8f27-11ec-88e2-0c5415d0f1a5.xml\n",
      "Image:C:\\SignLanguageDetection\\Tensorflow\\workspace\\images\\allimages\\yes.adfc900c-8f27-11ec-8a70-0c5415d0f1a5.jpg -> Annotation:C:/SignLanguageDetection/Tensorflow/workspace/images/allimages\\yes.adfc900c-8f27-11ec-8a70-0c5415d0f1a5.xml\n",
      "Image:C:\\SignLanguageDetection\\Tensorflow\\workspace\\images\\allimages\\yes.af33210c-8f27-11ec-926a-0c5415d0f1a5.jpg -> Annotation:C:/SignLanguageDetection/Tensorflow/workspace/images/allimages\\yes.af33210c-8f27-11ec-926a-0c5415d0f1a5.xml\n",
      "Image:C:\\SignLanguageDetection\\Tensorflow\\workspace\\images\\allimages\\yes.b2d04564-8f27-11ec-8542-0c5415d0f1a5.jpg -> Annotation:C:/SignLanguageDetection/Tensorflow/workspace/images/allimages\\yes.b2d04564-8f27-11ec-8542-0c5415d0f1a5.xml\n",
      "Image:C:\\SignLanguageDetection\\Tensorflow\\workspace\\images\\allimages\\yes.b7a8237e-8f27-11ec-a819-0c5415d0f1a5.jpg -> Annotation:C:/SignLanguageDetection/Tensorflow/workspace/images/allimages\\yes.b7a8237e-8f27-11ec-a819-0c5415d0f1a5.xml\n",
      "Image:C:\\SignLanguageDetection\\Tensorflow\\workspace\\images\\allimages\\yes.b19c4d52-8f27-11ec-a3b8-0c5415d0f1a5.jpg -> Annotation:C:/SignLanguageDetection/Tensorflow/workspace/images/allimages\\yes.b19c4d52-8f27-11ec-a3b8-0c5415d0f1a5.xml\n",
      "Image:C:\\SignLanguageDetection\\Tensorflow\\workspace\\images\\allimages\\yes.b40b4c02-8f27-11ec-82e5-0c5415d0f1a5.jpg -> Annotation:C:/SignLanguageDetection/Tensorflow/workspace/images/allimages\\yes.b40b4c02-8f27-11ec-82e5-0c5415d0f1a5.xml\n",
      "Image:C:\\SignLanguageDetection\\Tensorflow\\workspace\\images\\allimages\\yes.b064e4f4-8f27-11ec-991a-0c5415d0f1a5.jpg -> Annotation:C:/SignLanguageDetection/Tensorflow/workspace/images/allimages\\yes.b064e4f4-8f27-11ec-991a-0c5415d0f1a5.xml\n",
      "Image:C:\\SignLanguageDetection\\Tensorflow\\workspace\\images\\allimages\\yes.b5429318-8f27-11ec-ab9d-0c5415d0f1a5.jpg -> Annotation:C:/SignLanguageDetection/Tensorflow/workspace/images/allimages\\yes.b5429318-8f27-11ec-ab9d-0c5415d0f1a5.xml\n",
      "Image:C:\\SignLanguageDetection\\Tensorflow\\workspace\\images\\allimages\\yes.b6766550-8f27-11ec-b0db-0c5415d0f1a5.jpg -> Annotation:C:/SignLanguageDetection/Tensorflow/workspace/images/allimages\\yes.b6766550-8f27-11ec-b0db-0c5415d0f1a5.xml\n"
     ]
    }
   ],
   "source": [
    "os.chdir(\"C:\\SignLanguageDetection\\Tensorflow\\labelImg\")\n",
    "%run -m labelImg"
   ]
  },
  {
   "cell_type": "code",
   "execution_count": null,
   "id": "9362db68",
   "metadata": {},
   "outputs": [],
   "source": []
  }
 ],
 "metadata": {
  "kernelspec": {
   "display_name": "Python 3 (ipykernel)",
   "language": "python",
   "name": "python3"
  },
  "language_info": {
   "codemirror_mode": {
    "name": "ipython",
    "version": 3
   },
   "file_extension": ".py",
   "mimetype": "text/x-python",
   "name": "python",
   "nbconvert_exporter": "python",
   "pygments_lexer": "ipython3",
   "version": "3.7.9"
  }
 },
 "nbformat": 4,
 "nbformat_minor": 5
}
