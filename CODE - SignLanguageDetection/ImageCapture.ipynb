{
 "cells": [
  {
   "cell_type": "code",
   "execution_count": 1,
   "id": "b0310e95",
   "metadata": {},
   "outputs": [],
   "source": [
    "#!pip install opencv-python\n",
    "import cv2 #opencv\n",
    "import os\n",
    "import time\n",
    "import uuid"
   ]
  },
  {
   "cell_type": "code",
   "execution_count": 2,
   "id": "2ed5a68e",
   "metadata": {},
   "outputs": [
    {
     "name": "stdout",
     "output_type": "stream",
     "text": [
      "Tensorflow\\workspace\\images\\collectedimages\n"
     ]
    }
   ],
   "source": [
    "#print(os. getcwd())\n",
    "IMAGES_PATH='Tensorflow\\workspace\\images\\collectedimages'\n",
    "print(IMAGES_PATH)"
   ]
  },
  {
   "cell_type": "markdown",
   "id": "1afeff10",
   "metadata": {},
   "source": [
    "INITIALIZE LABELS AND CAPTURE IMAGES"
   ]
  },
  {
   "cell_type": "code",
   "execution_count": 6,
   "id": "90183fec",
   "metadata": {},
   "outputs": [],
   "source": [
    "labels=['hello','thanks','yes','no','iloveyou']\n",
    "number_imgs=15"
   ]
  },
  {
   "cell_type": "code",
   "execution_count": 4,
   "id": "13b63333",
   "metadata": {},
   "outputs": [
    {
     "name": "stderr",
     "output_type": "stream",
     "text": [
      "A subdirectory or file Tensorflow\\workspace\\images\\collectedimages\\hello already exists.\n"
     ]
    },
    {
     "name": "stdout",
     "output_type": "stream",
     "text": [
      "Collecting images for hello\n",
      "Tensorflow\\workspace\\images\\collectedimages\\hello\\hello.794c3752-8f27-11ec-89f2-0c5415d0f1a5.jpg\n",
      "Tensorflow\\workspace\\images\\collectedimages\\hello\\hello.7aa5123e-8f27-11ec-9258-0c5415d0f1a5.jpg\n",
      "Tensorflow\\workspace\\images\\collectedimages\\hello\\hello.7bdb855a-8f27-11ec-8572-0c5415d0f1a5.jpg\n",
      "Tensorflow\\workspace\\images\\collectedimages\\hello\\hello.7d101574-8f27-11ec-8337-0c5415d0f1a5.jpg\n",
      "Tensorflow\\workspace\\images\\collectedimages\\hello\\hello.7e43847e-8f27-11ec-919e-0c5415d0f1a5.jpg\n",
      "Tensorflow\\workspace\\images\\collectedimages\\hello\\hello.7f7868cc-8f27-11ec-8fd8-0c5415d0f1a5.jpg\n",
      "Tensorflow\\workspace\\images\\collectedimages\\hello\\hello.80ac6c46-8f27-11ec-99d9-0c5415d0f1a5.jpg\n",
      "Tensorflow\\workspace\\images\\collectedimages\\hello\\hello.81e087ec-8f27-11ec-a998-0c5415d0f1a5.jpg\n",
      "Tensorflow\\workspace\\images\\collectedimages\\hello\\hello.83193a34-8f27-11ec-85ec-0c5415d0f1a5.jpg\n",
      "Tensorflow\\workspace\\images\\collectedimages\\hello\\hello.844e3302-8f27-11ec-a67f-0c5415d0f1a5.jpg\n",
      "Tensorflow\\workspace\\images\\collectedimages\\hello\\hello.8584a048-8f27-11ec-9d41-0c5415d0f1a5.jpg\n",
      "Tensorflow\\workspace\\images\\collectedimages\\hello\\hello.86baedfe-8f27-11ec-a784-0c5415d0f1a5.jpg\n",
      "Tensorflow\\workspace\\images\\collectedimages\\hello\\hello.87f27b76-8f27-11ec-b9a9-0c5415d0f1a5.jpg\n",
      "Tensorflow\\workspace\\images\\collectedimages\\hello\\hello.89245d34-8f27-11ec-820d-0c5415d0f1a5.jpg\n",
      "Tensorflow\\workspace\\images\\collectedimages\\hello\\hello.8a582bc6-8f27-11ec-b94a-0c5415d0f1a5.jpg\n"
     ]
    },
    {
     "name": "stderr",
     "output_type": "stream",
     "text": [
      "A subdirectory or file Tensorflow\\workspace\\images\\collectedimages\\thanks already exists.\n"
     ]
    },
    {
     "name": "stdout",
     "output_type": "stream",
     "text": [
      "Collecting images for thanks\n",
      "Tensorflow\\workspace\\images\\collectedimages\\thanks\\thanks.900cbf62-8f27-11ec-8b13-0c5415d0f1a5.jpg\n",
      "Tensorflow\\workspace\\images\\collectedimages\\thanks\\thanks.9140041c-8f27-11ec-8a26-0c5415d0f1a5.jpg\n",
      "Tensorflow\\workspace\\images\\collectedimages\\thanks\\thanks.92765e8a-8f27-11ec-9f63-0c5415d0f1a5.jpg\n",
      "Tensorflow\\workspace\\images\\collectedimages\\thanks\\thanks.93a832b4-8f27-11ec-8602-0c5415d0f1a5.jpg\n",
      "Tensorflow\\workspace\\images\\collectedimages\\thanks\\thanks.94dc3de2-8f27-11ec-ac68-0c5415d0f1a5.jpg\n",
      "Tensorflow\\workspace\\images\\collectedimages\\thanks\\thanks.96112470-8f27-11ec-a7a6-0c5415d0f1a5.jpg\n",
      "Tensorflow\\workspace\\images\\collectedimages\\thanks\\thanks.97450292-8f27-11ec-a0d3-0c5415d0f1a5.jpg\n",
      "Tensorflow\\workspace\\images\\collectedimages\\thanks\\thanks.9876ce02-8f27-11ec-917d-0c5415d0f1a5.jpg\n",
      "Tensorflow\\workspace\\images\\collectedimages\\thanks\\thanks.99ad0a38-8f27-11ec-8f3d-0c5415d0f1a5.jpg\n",
      "Tensorflow\\workspace\\images\\collectedimages\\thanks\\thanks.9ae3801e-8f27-11ec-8646-0c5415d0f1a5.jpg\n",
      "Tensorflow\\workspace\\images\\collectedimages\\thanks\\thanks.9c188210-8f27-11ec-bb18-0c5415d0f1a5.jpg\n",
      "Tensorflow\\workspace\\images\\collectedimages\\thanks\\thanks.9d595450-8f27-11ec-ba78-0c5415d0f1a5.jpg\n",
      "Tensorflow\\workspace\\images\\collectedimages\\thanks\\thanks.9e8ad15c-8f27-11ec-871b-0c5415d0f1a5.jpg\n",
      "Tensorflow\\workspace\\images\\collectedimages\\thanks\\thanks.9fbefde6-8f27-11ec-ad3d-0c5415d0f1a5.jpg\n",
      "Tensorflow\\workspace\\images\\collectedimages\\thanks\\thanks.a0f0b16c-8f27-11ec-a85a-0c5415d0f1a5.jpg\n"
     ]
    },
    {
     "name": "stderr",
     "output_type": "stream",
     "text": [
      "A subdirectory or file Tensorflow\\workspace\\images\\collectedimages\\yes already exists.\n"
     ]
    },
    {
     "name": "stdout",
     "output_type": "stream",
     "text": [
      "Collecting images for yes\n",
      "Tensorflow\\workspace\\images\\collectedimages\\yes\\yes.a6574530-8f27-11ec-be87-0c5415d0f1a5.jpg\n",
      "Tensorflow\\workspace\\images\\collectedimages\\yes\\yes.a78a5f6c-8f27-11ec-9a2d-0c5415d0f1a5.jpg\n",
      "Tensorflow\\workspace\\images\\collectedimages\\yes\\yes.a8be5510-8f27-11ec-a64a-0c5415d0f1a5.jpg\n",
      "Tensorflow\\workspace\\images\\collectedimages\\yes\\yes.a9f24a64-8f27-11ec-9fac-0c5415d0f1a5.jpg\n",
      "Tensorflow\\workspace\\images\\collectedimages\\yes\\yes.ab94945c-8f27-11ec-95cf-0c5415d0f1a5.jpg\n",
      "Tensorflow\\workspace\\images\\collectedimages\\yes\\yes.accada18-8f27-11ec-88e2-0c5415d0f1a5.jpg\n",
      "Tensorflow\\workspace\\images\\collectedimages\\yes\\yes.adfc900c-8f27-11ec-8a70-0c5415d0f1a5.jpg\n",
      "Tensorflow\\workspace\\images\\collectedimages\\yes\\yes.af33210c-8f27-11ec-926a-0c5415d0f1a5.jpg\n",
      "Tensorflow\\workspace\\images\\collectedimages\\yes\\yes.b064e4f4-8f27-11ec-991a-0c5415d0f1a5.jpg\n",
      "Tensorflow\\workspace\\images\\collectedimages\\yes\\yes.b19c4d52-8f27-11ec-a3b8-0c5415d0f1a5.jpg\n",
      "Tensorflow\\workspace\\images\\collectedimages\\yes\\yes.b2d04564-8f27-11ec-8542-0c5415d0f1a5.jpg\n",
      "Tensorflow\\workspace\\images\\collectedimages\\yes\\yes.b40b4c02-8f27-11ec-82e5-0c5415d0f1a5.jpg\n",
      "Tensorflow\\workspace\\images\\collectedimages\\yes\\yes.b5429318-8f27-11ec-ab9d-0c5415d0f1a5.jpg\n",
      "Tensorflow\\workspace\\images\\collectedimages\\yes\\yes.b6766550-8f27-11ec-b0db-0c5415d0f1a5.jpg\n",
      "Tensorflow\\workspace\\images\\collectedimages\\yes\\yes.b7a8237e-8f27-11ec-a819-0c5415d0f1a5.jpg\n"
     ]
    },
    {
     "name": "stderr",
     "output_type": "stream",
     "text": [
      "A subdirectory or file Tensorflow\\workspace\\images\\collectedimages\\no already exists.\n"
     ]
    },
    {
     "name": "stdout",
     "output_type": "stream",
     "text": [
      "Collecting images for no\n",
      "Tensorflow\\workspace\\images\\collectedimages\\no\\no.bcfedde2-8f27-11ec-8189-0c5415d0f1a5.jpg\n",
      "Tensorflow\\workspace\\images\\collectedimages\\no\\no.be31976c-8f27-11ec-b5f5-0c5415d0f1a5.jpg\n",
      "Tensorflow\\workspace\\images\\collectedimages\\no\\no.bf6592d4-8f27-11ec-83d3-0c5415d0f1a5.jpg\n",
      "Tensorflow\\workspace\\images\\collectedimages\\no\\no.c09a1be8-8f27-11ec-a4f9-0c5415d0f1a5.jpg\n",
      "Tensorflow\\workspace\\images\\collectedimages\\no\\no.c1cfbf80-8f27-11ec-a3a4-0c5415d0f1a5.jpg\n",
      "Tensorflow\\workspace\\images\\collectedimages\\no\\no.c304b514-8f27-11ec-996b-0c5415d0f1a5.jpg\n",
      "Tensorflow\\workspace\\images\\collectedimages\\no\\no.c438909a-8f27-11ec-b68c-0c5415d0f1a5.jpg\n",
      "Tensorflow\\workspace\\images\\collectedimages\\no\\no.c56cc334-8f27-11ec-ae11-0c5415d0f1a5.jpg\n",
      "Tensorflow\\workspace\\images\\collectedimages\\no\\no.c6a0ff70-8f27-11ec-83ff-0c5415d0f1a5.jpg\n",
      "Tensorflow\\workspace\\images\\collectedimages\\no\\no.c7d4d768-8f27-11ec-8c19-0c5415d0f1a5.jpg\n",
      "Tensorflow\\workspace\\images\\collectedimages\\no\\no.c90c10d4-8f27-11ec-ade8-0c5415d0f1a5.jpg\n",
      "Tensorflow\\workspace\\images\\collectedimages\\no\\no.ca3dc264-8f27-11ec-ab5c-0c5415d0f1a5.jpg\n",
      "Tensorflow\\workspace\\images\\collectedimages\\no\\no.cb73ffc0-8f27-11ec-b501-0c5415d0f1a5.jpg\n",
      "Tensorflow\\workspace\\images\\collectedimages\\no\\no.ccaa48b0-8f27-11ec-96ae-0c5415d0f1a5.jpg\n",
      "Tensorflow\\workspace\\images\\collectedimages\\no\\no.cdde5c6e-8f27-11ec-a32e-0c5415d0f1a5.jpg\n"
     ]
    },
    {
     "name": "stderr",
     "output_type": "stream",
     "text": [
      "A subdirectory or file Tensorflow\\workspace\\images\\collectedimages\\iloveyou already exists.\n"
     ]
    },
    {
     "name": "stdout",
     "output_type": "stream",
     "text": [
      "Collecting images for iloveyou\n",
      "Tensorflow\\workspace\\images\\collectedimages\\iloveyou\\iloveyou.d33bf7be-8f27-11ec-ae72-0c5415d0f1a5.jpg\n",
      "Tensorflow\\workspace\\images\\collectedimages\\iloveyou\\iloveyou.d46f4d74-8f27-11ec-8896-0c5415d0f1a5.jpg\n",
      "Tensorflow\\workspace\\images\\collectedimages\\iloveyou\\iloveyou.d5a343ae-8f27-11ec-a9c1-0c5415d0f1a5.jpg\n",
      "Tensorflow\\workspace\\images\\collectedimages\\iloveyou\\iloveyou.d6dafae8-8f27-11ec-8e84-0c5415d0f1a5.jpg\n",
      "Tensorflow\\workspace\\images\\collectedimages\\iloveyou\\iloveyou.d80ec582-8f27-11ec-9fa1-0c5415d0f1a5.jpg\n",
      "Tensorflow\\workspace\\images\\collectedimages\\iloveyou\\iloveyou.d942823e-8f27-11ec-b1cd-0c5415d0f1a5.jpg\n",
      "Tensorflow\\workspace\\images\\collectedimages\\iloveyou\\iloveyou.da744af8-8f27-11ec-bb55-0c5415d0f1a5.jpg\n",
      "Tensorflow\\workspace\\images\\collectedimages\\iloveyou\\iloveyou.dba629ac-8f27-11ec-8c94-0c5415d0f1a5.jpg\n",
      "Tensorflow\\workspace\\images\\collectedimages\\iloveyou\\iloveyou.dcd7e162-8f27-11ec-851c-0c5415d0f1a5.jpg\n",
      "Tensorflow\\workspace\\images\\collectedimages\\iloveyou\\iloveyou.de0bc81c-8f27-11ec-8d2a-0c5415d0f1a5.jpg\n",
      "Tensorflow\\workspace\\images\\collectedimages\\iloveyou\\iloveyou.df3d9f1c-8f27-11ec-9493-0c5415d0f1a5.jpg\n",
      "Tensorflow\\workspace\\images\\collectedimages\\iloveyou\\iloveyou.e073ef92-8f27-11ec-b8c7-0c5415d0f1a5.jpg\n",
      "Tensorflow\\workspace\\images\\collectedimages\\iloveyou\\iloveyou.e1a90db4-8f27-11ec-ac6e-0c5415d0f1a5.jpg\n",
      "Tensorflow\\workspace\\images\\collectedimages\\iloveyou\\iloveyou.e2df534a-8f27-11ec-b3dc-0c5415d0f1a5.jpg\n",
      "Tensorflow\\workspace\\images\\collectedimages\\iloveyou\\iloveyou.e42037b0-8f27-11ec-baf7-0c5415d0f1a5.jpg\n"
     ]
    },
    {
     "name": "stderr",
     "output_type": "stream",
     "text": [
      "A subdirectory or file Tensorflow\\workspace\\images\\collectedimages\\please already exists.\n"
     ]
    },
    {
     "name": "stdout",
     "output_type": "stream",
     "text": [
      "Collecting images for please\n",
      "Tensorflow\\workspace\\images\\collectedimages\\please\\please.e9a19e1c-8f27-11ec-b3d2-0c5415d0f1a5.jpg\n",
      "Tensorflow\\workspace\\images\\collectedimages\\please\\please.ead4c242-8f27-11ec-ab98-0c5415d0f1a5.jpg\n",
      "Tensorflow\\workspace\\images\\collectedimages\\please\\please.ec0687a6-8f27-11ec-a27e-0c5415d0f1a5.jpg\n",
      "Tensorflow\\workspace\\images\\collectedimages\\please\\please.ed3883c6-8f27-11ec-873c-0c5415d0f1a5.jpg\n",
      "Tensorflow\\workspace\\images\\collectedimages\\please\\please.ee71e4c6-8f27-11ec-b841-0c5415d0f1a5.jpg\n",
      "Tensorflow\\workspace\\images\\collectedimages\\please\\please.efa7cc06-8f27-11ec-8cad-0c5415d0f1a5.jpg\n",
      "Tensorflow\\workspace\\images\\collectedimages\\please\\please.f0dffa42-8f27-11ec-8991-0c5415d0f1a5.jpg\n",
      "Tensorflow\\workspace\\images\\collectedimages\\please\\please.f21507d8-8f27-11ec-9f8e-0c5415d0f1a5.jpg\n",
      "Tensorflow\\workspace\\images\\collectedimages\\please\\please.f34a8a4c-8f27-11ec-92d1-0c5415d0f1a5.jpg\n",
      "Tensorflow\\workspace\\images\\collectedimages\\please\\please.f47f60fe-8f27-11ec-b3df-0c5415d0f1a5.jpg\n",
      "Tensorflow\\workspace\\images\\collectedimages\\please\\please.f5b57da4-8f27-11ec-a6fe-0c5415d0f1a5.jpg\n",
      "Tensorflow\\workspace\\images\\collectedimages\\please\\please.f6eaf912-8f27-11ec-98d5-0c5415d0f1a5.jpg\n",
      "Tensorflow\\workspace\\images\\collectedimages\\please\\please.f81fe836-8f27-11ec-ae4b-0c5415d0f1a5.jpg\n",
      "Tensorflow\\workspace\\images\\collectedimages\\please\\please.f9561d3a-8f27-11ec-bfcc-0c5415d0f1a5.jpg\n",
      "Tensorflow\\workspace\\images\\collectedimages\\please\\please.fa8c7786-8f27-11ec-a25b-0c5415d0f1a5.jpg\n",
      "Finished Collecting images...\n"
     ]
    }
   ],
   "source": [
    "\n",
    "for label in labels:\n",
    "    !mkdir {IMAGES_PATH+'\\\\'+label}\n",
    "    \n",
    "    cap=cv2.VideoCapture(0)\n",
    "     \n",
    "    print('Collecting images for {}'.format(label))\n",
    "    time.sleep(5)\n",
    "    for imgnum in range(number_imgs):\n",
    "        ret,frame=cap.read()\n",
    "        imagename=os.path.join(IMAGES_PATH,label,label+ '.' + '{}.jpg'.format(str(uuid.uuid1())))\n",
    "        print(imagename)\n",
    "        cv2.imwrite(imagename,frame)\n",
    "        cv2.imshow('frame',frame)\n",
    "        time.sleep(2)\n",
    "    \n",
    "    if cv2.waitKey(1) & 0xFF == ord('q'):\n",
    "        break\n",
    "        cap.release()\n",
    "print('Finished Collecting images...')"
   ]
  },
  {
   "cell_type": "code",
   "execution_count": 5,
   "id": "e1a61327",
   "metadata": {},
   "outputs": [],
   "source": [
    "cap.release()"
   ]
  }
 ],
 "metadata": {
  "kernelspec": {
   "display_name": "Python 3 (ipykernel)",
   "language": "python",
   "name": "python3"
  },
  "language_info": {
   "codemirror_mode": {
    "name": "ipython",
    "version": 3
   },
   "file_extension": ".py",
   "mimetype": "text/x-python",
   "name": "python",
   "nbconvert_exporter": "python",
   "pygments_lexer": "ipython3",
   "version": "3.7.9"
  }
 },
 "nbformat": 4,
 "nbformat_minor": 5
}
